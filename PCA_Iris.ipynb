{
 "cells": [
  {
   "cell_type": "markdown",
   "id": "ba84b628-d177-4f6c-9084-425e625e6dc0",
   "metadata": {},
   "source": [
    "_D. Sierra Porta_\n",
    "\n",
    "# Aplicaciones de Autovalores y Autovectores en Ciencia de Datos: Motivación y Ejemplo con el Dataset Iris\n",
    "\n",
    "## Motivación\n",
    "Las aplicaciones de autovalores y autovectores en ciencia de datos son fundamentales para extraer información esencial de conjuntos de datos complejos. Utilizando estos conceptos, es posible identificar las direcciones principales de variación en los datos, lo que se traduce en la reducción de dimensionalidad y en la mejora de la interpretabilidad de los modelos. Por ejemplo, el primer componente principal—también conocido como el autovector asociado al mayor autovalor—representa la dirección en la que los datos varían más, mientras que los siguientes componentes capturan variaciones secundarias. \n",
    "\n",
    "Para ilustrar estos conceptos, consideremos un conjunto de datos bidimensional. Al calcular la matriz de covarianza de los datos, se puede obtener la descomposición en valores y vectores propios. Utilizando numpy en Python, se realiza el siguiente proceso:\n",
    "\n",
    "> import numpy as np\n",
    "> \n",
    "> C = np.cov(X, rowvar=False)\n",
    ">\n",
    "> eigenvalues, eigenvectors = np.linalg.eig(C)\n",
    "\n",
    "Aquí, cada autovector indica una dirección principal (componente principal) en el espacio de datos, y su autovalor asociado cuantifica la varianza a lo largo de esa dirección. En otras palabras, al multiplicar la matriz de covarianza por nuestros datos, éstos se \"estiran\" en la dirección del autovector con mayor autovalor y se \"comprimen\" en la dirección del autovector con menor autovalor. Este comportamiento permite no sólo visualizar la estructura interna de los datos, sino también reducir su dimensionalidad, manteniendo la mayor parte de la información relevante.\n",
    "\n",
    "El Análisis de Componentes Principales (PCA) aprovecha estos principios para transformar un conjunto de datos con muchas características en un conjunto de variables de menor dimensión que conserva la mayor varianza. Esto resulta especialmente útil en contextos en los que el número de variables es muy alto y se requiere simplificar el análisis sin perder información crucial.\n",
    "\n",
    "## Ejemplo Práctico: El Dataset Iris (https://archive.ics.uci.edu/dataset/53/iris)\n",
    "El dataset Iris es un clásico de la ciencia de datos. Consta de 150 muestras de tres especies de iris (\\emph{Iris setosa}, \\emph{Iris versicolor} e \\emph{Iris virginica}), cada una con cuatro características: longitud y ancho del sépalo, y longitud y ancho del pétalo. \n",
    "\n",
    "### Información adicional\n",
    "Se trata de uno de los primeros conjuntos de datos utilizados en la literatura sobre métodos de clasificación y ampliamente utilizado en estadística y aprendizaje automático.  El conjunto de datos contiene 3 clases de 50 instancias cada una, donde cada clase se refiere a un tipo de planta de iris.  Una de las clases es linealmente separable de las otras dos, mientras que éstas no son linealmente separables entre sí.\n",
    "\n",
    "Unwin, A., & Kleinman, K. (2021). The iris data set: In search of the source of virginica. Significance, 18. (https://api.semanticscholar.org/CorpusID:244763032)\n",
    "\n",
    "La aplicación de PCA al dataset Iris sigue los siguientes pasos:\n",
    "\n",
    "- **Estandarización de los Datos:** Se centra el dataset restando la media y se escala dividiendo por la desviación estándar de cada característica.\n",
    "- **Cálculo de la Matriz de Covarianza:** A partir del dataset estandarizado, se calcula la matriz de covarianza \\(C\\) para evaluar la varianza compartida entre las características.\n",
    "- **Descomposición en Valores Propios:** Se extraen los autovalores y autovectores de la matriz \\(C\\), utilizando técnicas numéricas (por ejemplo, \\texttt{np.linalg.eig} de Python).\n",
    "- **Selección de Componentes Principales:** Se ordenan los autovectores según el valor de sus autovalores y se seleccionan aquellos que capturan la mayor parte de la varianza (generalmente los dos primeros en el caso de Iris).\n",
    "- **Proyección:** Los datos originales se proyectan en el espacio definido por los autovectores seleccionados, permitiendo visualizar la estructura y el agrupamiento de las tres especies de iris en dos dimensiones.\n",
    "\n",
    "Esta reducción de dimensionalidad no solo facilita la visualización y el análisis, sino que también mejora la eficiencia de modelos predictivos al eliminar características redundantes o ruidosas.\n",
    "\n",
    "## Resumen\n",
    "La aplicación de autovalores y autovectores en PCA es un pilar en el análisis de datos de alta dimensionalidad. Al identificar las direcciones de mayor varianza en un conjunto de datos, estos conceptos permiten transformar, visualizar y reducir la complejidad de la información, sin perder la esencia de la variabilidad intrínseca. Utilizando el dataset Iris, se ilustra cómo PCA extrae los componentes principales que representan las “direcciones” más importantes, facilitando tanto la interpretación como el modelado en ciencia de datos. Este proceso es fundamental en diversas aplicaciones, desde el procesamiento de imágenes hasta la minería de datos, demostrando la importancia de estos conceptos en el campo.\n",
    "\n",
    "Con esta motivación y ejemplo, este notebook busca ofrecer una introducción práctica y visual al uso de PCA, demostrando la relevancia de los autovalores y autovectores en la simplificación y análisis de datos complejos."
   ]
  },
  {
   "cell_type": "markdown",
   "id": "d232be1f-cf28-4808-a85d-f9fe6aa25560",
   "metadata": {},
   "source": [
    "![IRIS](https://s3.amazonaws.com/assets.datacamp.com/blog_assets/Machine+Learning+R/iris-machinelearning.png)"
   ]
  },
  {
   "cell_type": "markdown",
   "id": "a596d5f2-78d1-4cb0-94d5-446f974fa80d",
   "metadata": {},
   "source": [
    "## Cargemos datos..."
   ]
  },
  {
   "cell_type": "code",
   "execution_count": 1,
   "id": "2febf0c9-6c08-471a-a95d-0f37b0046f10",
   "metadata": {},
   "outputs": [
    {
     "data": {
      "text/html": [
       "<div>\n",
       "<style scoped>\n",
       "    .dataframe tbody tr th:only-of-type {\n",
       "        vertical-align: middle;\n",
       "    }\n",
       "\n",
       "    .dataframe tbody tr th {\n",
       "        vertical-align: top;\n",
       "    }\n",
       "\n",
       "    .dataframe thead th {\n",
       "        text-align: right;\n",
       "    }\n",
       "</style>\n",
       "<table border=\"1\" class=\"dataframe\">\n",
       "  <thead>\n",
       "    <tr style=\"text-align: right;\">\n",
       "      <th></th>\n",
       "      <th>sepal length (cm)</th>\n",
       "      <th>sepal width (cm)</th>\n",
       "      <th>petal length (cm)</th>\n",
       "      <th>petal width (cm)</th>\n",
       "      <th>target</th>\n",
       "    </tr>\n",
       "  </thead>\n",
       "  <tbody>\n",
       "    <tr>\n",
       "      <th>0</th>\n",
       "      <td>5.1</td>\n",
       "      <td>3.5</td>\n",
       "      <td>1.4</td>\n",
       "      <td>0.2</td>\n",
       "      <td>0</td>\n",
       "    </tr>\n",
       "    <tr>\n",
       "      <th>1</th>\n",
       "      <td>4.9</td>\n",
       "      <td>3.0</td>\n",
       "      <td>1.4</td>\n",
       "      <td>0.2</td>\n",
       "      <td>0</td>\n",
       "    </tr>\n",
       "    <tr>\n",
       "      <th>2</th>\n",
       "      <td>4.7</td>\n",
       "      <td>3.2</td>\n",
       "      <td>1.3</td>\n",
       "      <td>0.2</td>\n",
       "      <td>0</td>\n",
       "    </tr>\n",
       "    <tr>\n",
       "      <th>3</th>\n",
       "      <td>4.6</td>\n",
       "      <td>3.1</td>\n",
       "      <td>1.5</td>\n",
       "      <td>0.2</td>\n",
       "      <td>0</td>\n",
       "    </tr>\n",
       "    <tr>\n",
       "      <th>4</th>\n",
       "      <td>5.0</td>\n",
       "      <td>3.6</td>\n",
       "      <td>1.4</td>\n",
       "      <td>0.2</td>\n",
       "      <td>0</td>\n",
       "    </tr>\n",
       "    <tr>\n",
       "      <th>...</th>\n",
       "      <td>...</td>\n",
       "      <td>...</td>\n",
       "      <td>...</td>\n",
       "      <td>...</td>\n",
       "      <td>...</td>\n",
       "    </tr>\n",
       "    <tr>\n",
       "      <th>145</th>\n",
       "      <td>6.7</td>\n",
       "      <td>3.0</td>\n",
       "      <td>5.2</td>\n",
       "      <td>2.3</td>\n",
       "      <td>2</td>\n",
       "    </tr>\n",
       "    <tr>\n",
       "      <th>146</th>\n",
       "      <td>6.3</td>\n",
       "      <td>2.5</td>\n",
       "      <td>5.0</td>\n",
       "      <td>1.9</td>\n",
       "      <td>2</td>\n",
       "    </tr>\n",
       "    <tr>\n",
       "      <th>147</th>\n",
       "      <td>6.5</td>\n",
       "      <td>3.0</td>\n",
       "      <td>5.2</td>\n",
       "      <td>2.0</td>\n",
       "      <td>2</td>\n",
       "    </tr>\n",
       "    <tr>\n",
       "      <th>148</th>\n",
       "      <td>6.2</td>\n",
       "      <td>3.4</td>\n",
       "      <td>5.4</td>\n",
       "      <td>2.3</td>\n",
       "      <td>2</td>\n",
       "    </tr>\n",
       "    <tr>\n",
       "      <th>149</th>\n",
       "      <td>5.9</td>\n",
       "      <td>3.0</td>\n",
       "      <td>5.1</td>\n",
       "      <td>1.8</td>\n",
       "      <td>2</td>\n",
       "    </tr>\n",
       "  </tbody>\n",
       "</table>\n",
       "<p>150 rows × 5 columns</p>\n",
       "</div>"
      ],
      "text/plain": [
       "     sepal length (cm)  sepal width (cm)  petal length (cm)  petal width (cm)  \\\n",
       "0                  5.1               3.5                1.4               0.2   \n",
       "1                  4.9               3.0                1.4               0.2   \n",
       "2                  4.7               3.2                1.3               0.2   \n",
       "3                  4.6               3.1                1.5               0.2   \n",
       "4                  5.0               3.6                1.4               0.2   \n",
       "..                 ...               ...                ...               ...   \n",
       "145                6.7               3.0                5.2               2.3   \n",
       "146                6.3               2.5                5.0               1.9   \n",
       "147                6.5               3.0                5.2               2.0   \n",
       "148                6.2               3.4                5.4               2.3   \n",
       "149                5.9               3.0                5.1               1.8   \n",
       "\n",
       "     target  \n",
       "0         0  \n",
       "1         0  \n",
       "2         0  \n",
       "3         0  \n",
       "4         0  \n",
       "..      ...  \n",
       "145       2  \n",
       "146       2  \n",
       "147       2  \n",
       "148       2  \n",
       "149       2  \n",
       "\n",
       "[150 rows x 5 columns]"
      ]
     },
     "execution_count": 1,
     "metadata": {},
     "output_type": "execute_result"
    }
   ],
   "source": [
    "import numpy as np\n",
    "import matplotlib.pyplot as plt\n",
    "from mpl_toolkits.mplot3d import Axes3D\n",
    "\n",
    "from sklearn import decomposition\n",
    "from sklearn import datasets\n",
    "\n",
    "import pandas as pd\n",
    "\n",
    "np.random.seed(5)\n",
    "\n",
    "centers = [[1, 1], [-1, -1], [1, -1]]\n",
    "iris = datasets.load_iris()\n",
    "\n",
    "iris_df = pd.DataFrame(data = iris['data'],columns = iris['feature_names'])\n",
    "iris_df_tar=iris_df.copy()\n",
    "iris_df_tar['target']=iris['target']\n",
    "iris_df_tar"
   ]
  },
  {
   "cell_type": "code",
   "execution_count": 2,
   "id": "86b8205e-2b84-470f-be0f-4f5cec9fc244",
   "metadata": {},
   "outputs": [
    {
     "data": {
      "text/html": [
       "<div>\n",
       "<style scoped>\n",
       "    .dataframe tbody tr th:only-of-type {\n",
       "        vertical-align: middle;\n",
       "    }\n",
       "\n",
       "    .dataframe tbody tr th {\n",
       "        vertical-align: top;\n",
       "    }\n",
       "\n",
       "    .dataframe thead th {\n",
       "        text-align: right;\n",
       "    }\n",
       "</style>\n",
       "<table border=\"1\" class=\"dataframe\">\n",
       "  <thead>\n",
       "    <tr style=\"text-align: right;\">\n",
       "      <th></th>\n",
       "      <th>sepal length (cm)</th>\n",
       "      <th>sepal width (cm)</th>\n",
       "      <th>petal length (cm)</th>\n",
       "      <th>petal width (cm)</th>\n",
       "      <th>target</th>\n",
       "    </tr>\n",
       "  </thead>\n",
       "  <tbody>\n",
       "    <tr>\n",
       "      <th>0</th>\n",
       "      <td>5.1</td>\n",
       "      <td>3.5</td>\n",
       "      <td>1.4</td>\n",
       "      <td>0.2</td>\n",
       "      <td>0</td>\n",
       "    </tr>\n",
       "    <tr>\n",
       "      <th>1</th>\n",
       "      <td>4.9</td>\n",
       "      <td>3.0</td>\n",
       "      <td>1.4</td>\n",
       "      <td>0.2</td>\n",
       "      <td>0</td>\n",
       "    </tr>\n",
       "    <tr>\n",
       "      <th>2</th>\n",
       "      <td>4.7</td>\n",
       "      <td>3.2</td>\n",
       "      <td>1.3</td>\n",
       "      <td>0.2</td>\n",
       "      <td>0</td>\n",
       "    </tr>\n",
       "    <tr>\n",
       "      <th>3</th>\n",
       "      <td>4.6</td>\n",
       "      <td>3.1</td>\n",
       "      <td>1.5</td>\n",
       "      <td>0.2</td>\n",
       "      <td>0</td>\n",
       "    </tr>\n",
       "    <tr>\n",
       "      <th>4</th>\n",
       "      <td>5.0</td>\n",
       "      <td>3.6</td>\n",
       "      <td>1.4</td>\n",
       "      <td>0.2</td>\n",
       "      <td>0</td>\n",
       "    </tr>\n",
       "    <tr>\n",
       "      <th>...</th>\n",
       "      <td>...</td>\n",
       "      <td>...</td>\n",
       "      <td>...</td>\n",
       "      <td>...</td>\n",
       "      <td>...</td>\n",
       "    </tr>\n",
       "    <tr>\n",
       "      <th>145</th>\n",
       "      <td>6.7</td>\n",
       "      <td>3.0</td>\n",
       "      <td>5.2</td>\n",
       "      <td>2.3</td>\n",
       "      <td>2</td>\n",
       "    </tr>\n",
       "    <tr>\n",
       "      <th>146</th>\n",
       "      <td>6.3</td>\n",
       "      <td>2.5</td>\n",
       "      <td>5.0</td>\n",
       "      <td>1.9</td>\n",
       "      <td>2</td>\n",
       "    </tr>\n",
       "    <tr>\n",
       "      <th>147</th>\n",
       "      <td>6.5</td>\n",
       "      <td>3.0</td>\n",
       "      <td>5.2</td>\n",
       "      <td>2.0</td>\n",
       "      <td>2</td>\n",
       "    </tr>\n",
       "    <tr>\n",
       "      <th>148</th>\n",
       "      <td>6.2</td>\n",
       "      <td>3.4</td>\n",
       "      <td>5.4</td>\n",
       "      <td>2.3</td>\n",
       "      <td>2</td>\n",
       "    </tr>\n",
       "    <tr>\n",
       "      <th>149</th>\n",
       "      <td>5.9</td>\n",
       "      <td>3.0</td>\n",
       "      <td>5.1</td>\n",
       "      <td>1.8</td>\n",
       "      <td>2</td>\n",
       "    </tr>\n",
       "  </tbody>\n",
       "</table>\n",
       "<p>150 rows × 5 columns</p>\n",
       "</div>"
      ],
      "text/plain": [
       "     sepal length (cm)  sepal width (cm)  petal length (cm)  petal width (cm)  \\\n",
       "0                  5.1               3.5                1.4               0.2   \n",
       "1                  4.9               3.0                1.4               0.2   \n",
       "2                  4.7               3.2                1.3               0.2   \n",
       "3                  4.6               3.1                1.5               0.2   \n",
       "4                  5.0               3.6                1.4               0.2   \n",
       "..                 ...               ...                ...               ...   \n",
       "145                6.7               3.0                5.2               2.3   \n",
       "146                6.3               2.5                5.0               1.9   \n",
       "147                6.5               3.0                5.2               2.0   \n",
       "148                6.2               3.4                5.4               2.3   \n",
       "149                5.9               3.0                5.1               1.8   \n",
       "\n",
       "     target  \n",
       "0         0  \n",
       "1         0  \n",
       "2         0  \n",
       "3         0  \n",
       "4         0  \n",
       "..      ...  \n",
       "145       2  \n",
       "146       2  \n",
       "147       2  \n",
       "148       2  \n",
       "149       2  \n",
       "\n",
       "[150 rows x 5 columns]"
      ]
     },
     "execution_count": 2,
     "metadata": {},
     "output_type": "execute_result"
    }
   ],
   "source": [
    "import numpy as np\n",
    "import matplotlib.pyplot as plt\n",
    "from mpl_toolkits.mplot3d import Axes3D\n",
    "\n",
    "from sklearn import decomposition\n",
    "from sklearn import datasets\n",
    "\n",
    "import pandas as pd\n",
    "\n",
    "np.random.seed(5)\n",
    "\n",
    "centers = [[1, 1], [-1, -1], [1, -1]]\n",
    "iris = datasets.load_iris()\n",
    "\n",
    "iris_df = pd.DataFrame(data = iris['data'],columns = iris['feature_names'])\n",
    "iris_df_tar=iris_df.copy()\n",
    "iris_df_tar['target']=iris['target']\n",
    "iris_df_tar"
   ]
  },
  {
   "cell_type": "markdown",
   "id": "6cc96549-3dad-49d6-9c78-d3228fab500e",
   "metadata": {},
   "source": [
    "Echemos un vistazo rápido al conjunto de datos."
   ]
  },
  {
   "cell_type": "code",
   "execution_count": 3,
   "id": "a24a94ce-00f7-4491-b615-9b93db1945ed",
   "metadata": {},
   "outputs": [
    {
     "data": {
      "text/html": [
       "<div>\n",
       "<style scoped>\n",
       "    .dataframe tbody tr th:only-of-type {\n",
       "        vertical-align: middle;\n",
       "    }\n",
       "\n",
       "    .dataframe tbody tr th {\n",
       "        vertical-align: top;\n",
       "    }\n",
       "\n",
       "    .dataframe thead th {\n",
       "        text-align: right;\n",
       "    }\n",
       "</style>\n",
       "<table border=\"1\" class=\"dataframe\">\n",
       "  <thead>\n",
       "    <tr style=\"text-align: right;\">\n",
       "      <th></th>\n",
       "      <th>sepal length (cm)</th>\n",
       "      <th>sepal width (cm)</th>\n",
       "      <th>petal length (cm)</th>\n",
       "      <th>petal width (cm)</th>\n",
       "    </tr>\n",
       "  </thead>\n",
       "  <tbody>\n",
       "    <tr>\n",
       "      <th>count</th>\n",
       "      <td>150.000000</td>\n",
       "      <td>150.000000</td>\n",
       "      <td>150.000000</td>\n",
       "      <td>150.000000</td>\n",
       "    </tr>\n",
       "    <tr>\n",
       "      <th>mean</th>\n",
       "      <td>5.843333</td>\n",
       "      <td>3.057333</td>\n",
       "      <td>3.758000</td>\n",
       "      <td>1.199333</td>\n",
       "    </tr>\n",
       "    <tr>\n",
       "      <th>std</th>\n",
       "      <td>0.828066</td>\n",
       "      <td>0.435866</td>\n",
       "      <td>1.765298</td>\n",
       "      <td>0.762238</td>\n",
       "    </tr>\n",
       "    <tr>\n",
       "      <th>min</th>\n",
       "      <td>4.300000</td>\n",
       "      <td>2.000000</td>\n",
       "      <td>1.000000</td>\n",
       "      <td>0.100000</td>\n",
       "    </tr>\n",
       "    <tr>\n",
       "      <th>25%</th>\n",
       "      <td>5.100000</td>\n",
       "      <td>2.800000</td>\n",
       "      <td>1.600000</td>\n",
       "      <td>0.300000</td>\n",
       "    </tr>\n",
       "    <tr>\n",
       "      <th>50%</th>\n",
       "      <td>5.800000</td>\n",
       "      <td>3.000000</td>\n",
       "      <td>4.350000</td>\n",
       "      <td>1.300000</td>\n",
       "    </tr>\n",
       "    <tr>\n",
       "      <th>75%</th>\n",
       "      <td>6.400000</td>\n",
       "      <td>3.300000</td>\n",
       "      <td>5.100000</td>\n",
       "      <td>1.800000</td>\n",
       "    </tr>\n",
       "    <tr>\n",
       "      <th>max</th>\n",
       "      <td>7.900000</td>\n",
       "      <td>4.400000</td>\n",
       "      <td>6.900000</td>\n",
       "      <td>2.500000</td>\n",
       "    </tr>\n",
       "  </tbody>\n",
       "</table>\n",
       "</div>"
      ],
      "text/plain": [
       "       sepal length (cm)  sepal width (cm)  petal length (cm)  \\\n",
       "count         150.000000        150.000000         150.000000   \n",
       "mean            5.843333          3.057333           3.758000   \n",
       "std             0.828066          0.435866           1.765298   \n",
       "min             4.300000          2.000000           1.000000   \n",
       "25%             5.100000          2.800000           1.600000   \n",
       "50%             5.800000          3.000000           4.350000   \n",
       "75%             6.400000          3.300000           5.100000   \n",
       "max             7.900000          4.400000           6.900000   \n",
       "\n",
       "       petal width (cm)  \n",
       "count        150.000000  \n",
       "mean           1.199333  \n",
       "std            0.762238  \n",
       "min            0.100000  \n",
       "25%            0.300000  \n",
       "50%            1.300000  \n",
       "75%            1.800000  \n",
       "max            2.500000  "
      ]
     },
     "execution_count": 3,
     "metadata": {},
     "output_type": "execute_result"
    }
   ],
   "source": [
    "iris_df.describe()"
   ]
  },
  {
   "cell_type": "code",
   "execution_count": 4,
   "id": "622524c8-4158-432c-b07a-6efecef8a163",
   "metadata": {},
   "outputs": [
    {
     "data": {
      "text/plain": [
       "<Figure size 1200x600 with 0 Axes>"
      ]
     },
     "metadata": {},
     "output_type": "display_data"
    },
    {
     "data": {
      "image/png": "[encoded data removed]",
      "text/plain": [
       "<Figure size 1000x1000 with 20 Axes>"
      ]
     },
     "metadata": {},
     "output_type": "display_data"
    }
   ],
   "source": [
    "import seaborn as sns\n",
    "plt.figure(figsize=(12,6))\n",
    "g = sns.PairGrid(iris_df)\n",
    "g.map_diag(sns.histplot)\n",
    "g.map_offdiag(sns.scatterplot)\n",
    "plt.show()"
   ]
  },
  {
   "cell_type": "markdown",
   "id": "b86c4b57-c0c0-4e9a-9c8d-348916b50eec",
   "metadata": {},
   "source": [
    "## De todas las variables cuáles son las más importante??\n",
    "\n",
    "Podemos crear lo que se denomina «scree plot» para ver qué variables explican la mayor variabilidad de los datos. Para ello, realizamos un primer ACP."
   ]
  },
  {
   "cell_type": "code",
   "execution_count": 5,
   "id": "6eca1476-c366-4b45-8632-4dcaa49b9ea2",
   "metadata": {},
   "outputs": [
    {
     "data": {
      "image/png": "[encoded data removed]",
      "text/plain": [
       "<Figure size 640x480 with 1 Axes>"
      ]
     },
     "metadata": {},
     "output_type": "display_data"
    }
   ],
   "source": [
    "from sklearn.decomposition import PCA\n",
    "#svd_solver : {'auto', 'full', 'covariance_eigh', 'arpack', 'randomized'}\n",
    "pca = PCA(random_state=1623,svd_solver='randomized')\n",
    "pca = pca.fit(iris_df)\n",
    "plt.bar(np.arange(1,5), pca.explained_variance_ratio_)\n",
    "plt.xticks(np.arange(1, 5))  # Set label locations.\n",
    "plt.xlabel(\"Component number\")\n",
    "plt.ylabel(\"Proportion of Variance\")\n",
    "plt.title(\"Scree Plot\")\n",
    "plt.grid(alpha=0.3)\n",
    "plt.show()"
   ]
  },
  {
   "cell_type": "markdown",
   "id": "5bcd3ec7-a6e7-4da9-824c-f7e341e2d5f3",
   "metadata": {},
   "source": [
    "## Covarianza, matriz de covarianza..."
   ]
  },
  {
   "cell_type": "code",
   "execution_count": 6,
   "id": "811139b6-2690-48a5-aec9-289a940264f1",
   "metadata": {},
   "outputs": [
    {
     "data": {
      "text/plain": [
       "array([[ 0.68569351, -0.042434  ,  1.27431544,  0.51627069],\n",
       "       [-0.042434  ,  0.18997942, -0.32965638, -0.12163937],\n",
       "       [ 1.27431544, -0.32965638,  3.11627785,  1.2956094 ],\n",
       "       [ 0.51627069, -0.12163937,  1.2956094 ,  0.58100626]])"
      ]
     },
     "execution_count": 6,
     "metadata": {},
     "output_type": "execute_result"
    }
   ],
   "source": [
    "pca.get_covariance()"
   ]
  },
  {
   "cell_type": "markdown",
   "id": "6782b036-5e1f-4b71-8407-d32b9a80599e",
   "metadata": {},
   "source": [
    "## Autovectores y autovalores:\n",
    "\n",
    "Podemoslos usar las herramientas de numpy en python para trabajar con matrices grandes y usar este poder para transformarlas y calcular cosas sobre ellas. En particular, dada la matriz de covarianza anterior podemos calcular los autovalore sy los autovectores correspondientes, siguiendo:\n",
    "\n",
    "$$A\\cdot v=\\lambda \\cdot v$$"
   ]
  },
  {
   "cell_type": "code",
   "execution_count": 7,
   "id": "612032c1-1ff2-4058-b653-5a4d98026e51",
   "metadata": {},
   "outputs": [],
   "source": [
    "eigenvalues, eigenvectors = np.linalg.eig(pca.get_covariance())"
   ]
  },
  {
   "cell_type": "code",
   "execution_count": 8,
   "id": "9038ab9f-eaf1-4556-9356-f69afc3d5ee1",
   "metadata": {},
   "outputs": [
    {
     "data": {
      "text/plain": [
       "array([4.22824171, 0.24267075, 0.0782095 , 0.02383509])"
      ]
     },
     "execution_count": 8,
     "metadata": {},
     "output_type": "execute_result"
    }
   ],
   "source": [
    "eigenvalues"
   ]
  },
  {
   "cell_type": "code",
   "execution_count": 9,
   "id": "6ee19acb-2b3a-4998-b06e-f4af392ed789",
   "metadata": {},
   "outputs": [
    {
     "data": {
      "text/plain": [
       "array([[ 0.36138659, -0.65658877, -0.58202985,  0.31548719],\n",
       "       [-0.08452251, -0.73016143,  0.59791083, -0.3197231 ],\n",
       "       [ 0.85667061,  0.17337266,  0.07623608, -0.47983899],\n",
       "       [ 0.3582892 ,  0.07548102,  0.54583143,  0.75365743]])"
      ]
     },
     "execution_count": 9,
     "metadata": {},
     "output_type": "execute_result"
    }
   ],
   "source": [
    "eigenvectors"
   ]
  },
  {
   "cell_type": "markdown",
   "id": "5bad5eb4-559a-434b-a3a8-4c040245ce5c",
   "metadata": {},
   "source": [
    "La matriz de convarianza podemoslos calcularla directamente usando las herramientas de python específicos{ificamente numpy..."
   ]
  },
  {
   "cell_type": "code",
   "execution_count": 10,
   "id": "261282d1-3e3c-40ed-a508-6c05120c09e9",
   "metadata": {},
   "outputs": [],
   "source": [
    "C = np.cov(iris_df, rowvar = False)"
   ]
  },
  {
   "cell_type": "code",
   "execution_count": 11,
   "id": "069df620-c402-4e6c-8404-420aa4983f9d",
   "metadata": {},
   "outputs": [
    {
     "data": {
      "text/plain": [
       "array([[ 0.68569351, -0.042434  ,  1.27431544,  0.51627069],\n",
       "       [-0.042434  ,  0.18997942, -0.32965638, -0.12163937],\n",
       "       [ 1.27431544, -0.32965638,  3.11627785,  1.2956094 ],\n",
       "       [ 0.51627069, -0.12163937,  1.2956094 ,  0.58100626]])"
      ]
     },
     "execution_count": 11,
     "metadata": {},
     "output_type": "execute_result"
    }
   ],
   "source": [
    "C"
   ]
  },
  {
   "cell_type": "markdown",
   "id": "58fabe81-6c99-494d-842e-90cf36f9d190",
   "metadata": {},
   "source": [
    "Pero tambien podemos calcular los Valores propios y Vectores propios con estas mismas herramientas..\n",
    "\n",
    "Ahora calcularemos los vectores propios y los valores propios de nuestro espacio de características, que son muy útiles para identificar los componentes principales de nuestro espacio de características."
   ]
  },
  {
   "cell_type": "code",
   "execution_count": 12,
   "id": "150dd70e-c4e9-42e8-bd2f-dcd6f4e66257",
   "metadata": {},
   "outputs": [
    {
     "name": "stdout",
     "output_type": "stream",
     "text": [
      "Eigen values:\n",
      " [4.22824171 0.24267075 0.0782095  0.02383509]\n",
      "Eigen values Shape: (4,)\n",
      "Eigen Vector Shape: (4, 4)\n"
     ]
    }
   ],
   "source": [
    "eigenvalues, eigenvectors = np.linalg.eig(C)\n",
    "print('Eigen values:\\n', eigenvalues)\n",
    "print('Eigen values Shape:', eigenvalues.shape)\n",
    "print('Eigen Vector Shape:', eigenvectors.shape)"
   ]
  },
  {
   "cell_type": "code",
   "execution_count": 13,
   "id": "b1e8a45a-224f-4963-b4fe-fd4fd53c02a8",
   "metadata": {},
   "outputs": [
    {
     "data": {
      "text/plain": [
       "array([[ 0.36138659, -0.65658877, -0.58202985,  0.31548719],\n",
       "       [-0.08452251, -0.73016143,  0.59791083, -0.3197231 ],\n",
       "       [ 0.85667061,  0.17337266,  0.07623608, -0.47983899],\n",
       "       [ 0.3582892 ,  0.07548102,  0.54583143,  0.75365743]])"
      ]
     },
     "execution_count": 13,
     "metadata": {},
     "output_type": "execute_result"
    }
   ],
   "source": [
    "eigenvectors"
   ]
  },
  {
   "cell_type": "markdown",
   "id": "e90b3882-ca35-474b-ae1a-fcc3a0b04e7c",
   "metadata": {},
   "source": [
    "Para obtener las componentes principales, se debe proyectar los datos originales en el espacio generado por los autovectores de la matriz de covarianza. Aunque la matriz de covarianza es de dimensión 4x4 (porque originalmente tienes 4 variables), el dataset original tiene 150 observaciones, por lo que la matriz de datos X tiene dimensión 150x4.\n",
    "\n",
    "El proceso es el siguiente:\n",
    "- Calcular los autovectores y autovalores de la matriz de covarianza, obteniendo una matriz \\(V\\) de dimensión 4x4, donde cada columna es un autovector.\n",
    "- Proyectar los datos originales (después de centrar o estandarizar) sobre el espacio de los autovectores. Esto se realiza multiplicando la matriz de datos \\(X\\) (de dimensión 150x4) por la matriz \\(V\\) (de dimensión \\(4 \\times 4\\)):\n",
    "\n",
    "  $ X_{\\text{proj}} = X \\, V. $\n",
    "\n",
    "El resultado $ X_{\\text{proj}} $ tendrá dimensión 150x4, en donde cada columna representa una componente principal. Así, la primera columna (asociada al mayor autovalor) es la primera componente principal, que es un vector de dimensión 150x1, donde cada entrada corresponde a la proyección de cada observación en esa dirección."
   ]
  },
  {
   "cell_type": "code",
   "execution_count": 14,
   "id": "dfec82b8-5207-4d12-a9b5-40210a08a9fa",
   "metadata": {},
   "outputs": [
    {
     "data": {
      "text/html": [
       "<div>\n",
       "<style scoped>\n",
       "    .dataframe tbody tr th:only-of-type {\n",
       "        vertical-align: middle;\n",
       "    }\n",
       "\n",
       "    .dataframe tbody tr th {\n",
       "        vertical-align: top;\n",
       "    }\n",
       "\n",
       "    .dataframe thead th {\n",
       "        text-align: right;\n",
       "    }\n",
       "</style>\n",
       "<table border=\"1\" class=\"dataframe\">\n",
       "  <thead>\n",
       "    <tr style=\"text-align: right;\">\n",
       "      <th></th>\n",
       "      <th>0</th>\n",
       "      <th>1</th>\n",
       "      <th>2</th>\n",
       "      <th>3</th>\n",
       "    </tr>\n",
       "  </thead>\n",
       "  <tbody>\n",
       "    <tr>\n",
       "      <th>0</th>\n",
       "      <td>5.235814</td>\n",
       "      <td>-0.037332</td>\n",
       "      <td>9.967122</td>\n",
       "      <td>4.137297</td>\n",
       "    </tr>\n",
       "    <tr>\n",
       "      <th>1</th>\n",
       "      <td>5.119892</td>\n",
       "      <td>-0.123835</td>\n",
       "      <td>9.877087</td>\n",
       "      <td>4.094863</td>\n",
       "    </tr>\n",
       "    <tr>\n",
       "      <th>2</th>\n",
       "      <td>4.846835</td>\n",
       "      <td>-0.044387</td>\n",
       "      <td>9.244665</td>\n",
       "      <td>3.837720</td>\n",
       "    </tr>\n",
       "    <tr>\n",
       "      <th>3</th>\n",
       "      <td>5.037372</td>\n",
       "      <td>-0.125073</td>\n",
       "      <td>9.773455</td>\n",
       "      <td>4.057378</td>\n",
       "    </tr>\n",
       "    <tr>\n",
       "      <th>4</th>\n",
       "      <td>5.163001</td>\n",
       "      <td>-0.014091</td>\n",
       "      <td>9.806725</td>\n",
       "      <td>4.073506</td>\n",
       "    </tr>\n",
       "    <tr>\n",
       "      <th>...</th>\n",
       "      <td>...</td>\n",
       "      <td>...</td>\n",
       "      <td>...</td>\n",
       "      <td>...</td>\n",
       "    </tr>\n",
       "    <tr>\n",
       "      <th>145</th>\n",
       "      <td>12.280707</td>\n",
       "      <td>-1.708353</td>\n",
       "      <td>26.733491</td>\n",
       "      <td>11.167579</td>\n",
       "    </tr>\n",
       "    <tr>\n",
       "      <th>146</th>\n",
       "      <td>11.566276</td>\n",
       "      <td>-1.671782</td>\n",
       "      <td>25.247093</td>\n",
       "      <td>10.530366</td>\n",
       "    </tr>\n",
       "    <tr>\n",
       "      <th>147</th>\n",
       "      <td>11.988687</td>\n",
       "      <td>-1.663375</td>\n",
       "      <td>26.089945</td>\n",
       "      <td>10.890023</td>\n",
       "    </tr>\n",
       "    <tr>\n",
       "      <th>148</th>\n",
       "      <td>12.175750</td>\n",
       "      <td>-1.677076</td>\n",
       "      <td>26.587726</td>\n",
       "      <td>11.119910</td>\n",
       "    </tr>\n",
       "    <tr>\n",
       "      <th>149</th>\n",
       "      <td>11.346586</td>\n",
       "      <td>-1.580621</td>\n",
       "      <td>24.754606</td>\n",
       "      <td>10.334498</td>\n",
       "    </tr>\n",
       "  </tbody>\n",
       "</table>\n",
       "<p>150 rows × 4 columns</p>\n",
       "</div>"
      ],
      "text/plain": [
       "             0         1          2          3\n",
       "0     5.235814 -0.037332   9.967122   4.137297\n",
       "1     5.119892 -0.123835   9.877087   4.094863\n",
       "2     4.846835 -0.044387   9.244665   3.837720\n",
       "3     5.037372 -0.125073   9.773455   4.057378\n",
       "4     5.163001 -0.014091   9.806725   4.073506\n",
       "..         ...       ...        ...        ...\n",
       "145  12.280707 -1.708353  26.733491  11.167579\n",
       "146  11.566276 -1.671782  25.247093  10.530366\n",
       "147  11.988687 -1.663375  26.089945  10.890023\n",
       "148  12.175750 -1.677076  26.587726  11.119910\n",
       "149  11.346586 -1.580621  24.754606  10.334498\n",
       "\n",
       "[150 rows x 4 columns]"
      ]
     },
     "execution_count": 14,
     "metadata": {},
     "output_type": "execute_result"
    }
   ],
   "source": [
    "pd.DataFrame(np.dot(np.array(iris_df),C)) # Pero hay primero que normalizar y estandarizár...."
   ]
  },
  {
   "cell_type": "markdown",
   "id": "9b8eb9f3-9638-4219-9600-8ed3203c6ed5",
   "metadata": {},
   "source": [
    "Como vemos, los dos primeros componentes explican la mayor parte de la variabilidad de los datos. Por lo tanto, he decidido conservar sólo los dos primeros componentes y descartar el resto. Una vez determinado el número de componentes que debemos conservar, podemos realizar un segundo ACP en el que reduciremos el número de características."
   ]
  },
  {
   "cell_type": "markdown",
   "id": "545ea346-05db-47d3-8cc5-5ec65c739a5a",
   "metadata": {},
   "source": [
    "## Vamos a la implementacion..."
   ]
  },
  {
   "cell_type": "code",
   "execution_count": 15,
   "id": "5728ca51-46ee-4309-bbbc-0310cbf0cf63",
   "metadata": {},
   "outputs": [],
   "source": [
    "## En este caso asumiremos una reduccion a dos caracteristicas sólamente...\n",
    "pca = PCA(n_components = 2)\n",
    "pca = pca.fit(iris_df)\n",
    "iris_transformed = pca.transform(iris_df)"
   ]
  },
  {
   "cell_type": "code",
   "execution_count": 16,
   "id": "78a148d4-a4ce-4076-8bc0-763371b36052",
   "metadata": {},
   "outputs": [],
   "source": [
    "pca = PCA(n_components = 2)\n",
    "pca = pca.fit(iris_df)\n",
    "iris_transformed = pca.transform(iris_df)"
   ]
  },
  {
   "cell_type": "code",
   "execution_count": 17,
   "id": "b419738d-4a01-4707-9acd-51616dd9b30d",
   "metadata": {},
   "outputs": [
    {
     "name": "stdout",
     "output_type": "stream",
     "text": [
      "[[-2.68412563  0.31939725]\n",
      " [-2.71414169 -0.17700123]\n",
      " [-2.88899057 -0.14494943]\n",
      " [-2.74534286 -0.31829898]\n",
      " [-2.72871654  0.32675451]]\n"
     ]
    }
   ],
   "source": [
    "print(iris_transformed[:5,:])"
   ]
  },
  {
   "cell_type": "code",
   "execution_count": 18,
   "id": "60f0883a-c8eb-4d80-8f92-29a73e91efcd",
   "metadata": {},
   "outputs": [
    {
     "data": {
      "text/html": [
       "<div>\n",
       "<style scoped>\n",
       "    .dataframe tbody tr th:only-of-type {\n",
       "        vertical-align: middle;\n",
       "    }\n",
       "\n",
       "    .dataframe tbody tr th {\n",
       "        vertical-align: top;\n",
       "    }\n",
       "\n",
       "    .dataframe thead th {\n",
       "        text-align: right;\n",
       "    }\n",
       "</style>\n",
       "<table border=\"1\" class=\"dataframe\">\n",
       "  <thead>\n",
       "    <tr style=\"text-align: right;\">\n",
       "      <th></th>\n",
       "      <th>0</th>\n",
       "      <th>1</th>\n",
       "    </tr>\n",
       "  </thead>\n",
       "  <tbody>\n",
       "    <tr>\n",
       "      <th>0</th>\n",
       "      <td>-2.684126</td>\n",
       "      <td>0.319397</td>\n",
       "    </tr>\n",
       "    <tr>\n",
       "      <th>1</th>\n",
       "      <td>-2.714142</td>\n",
       "      <td>-0.177001</td>\n",
       "    </tr>\n",
       "    <tr>\n",
       "      <th>2</th>\n",
       "      <td>-2.888991</td>\n",
       "      <td>-0.144949</td>\n",
       "    </tr>\n",
       "    <tr>\n",
       "      <th>3</th>\n",
       "      <td>-2.745343</td>\n",
       "      <td>-0.318299</td>\n",
       "    </tr>\n",
       "    <tr>\n",
       "      <th>4</th>\n",
       "      <td>-2.728717</td>\n",
       "      <td>0.326755</td>\n",
       "    </tr>\n",
       "    <tr>\n",
       "      <th>...</th>\n",
       "      <td>...</td>\n",
       "      <td>...</td>\n",
       "    </tr>\n",
       "    <tr>\n",
       "      <th>145</th>\n",
       "      <td>1.944110</td>\n",
       "      <td>0.187532</td>\n",
       "    </tr>\n",
       "    <tr>\n",
       "      <th>146</th>\n",
       "      <td>1.527167</td>\n",
       "      <td>-0.375317</td>\n",
       "    </tr>\n",
       "    <tr>\n",
       "      <th>147</th>\n",
       "      <td>1.764346</td>\n",
       "      <td>0.078859</td>\n",
       "    </tr>\n",
       "    <tr>\n",
       "      <th>148</th>\n",
       "      <td>1.900942</td>\n",
       "      <td>0.116628</td>\n",
       "    </tr>\n",
       "    <tr>\n",
       "      <th>149</th>\n",
       "      <td>1.390189</td>\n",
       "      <td>-0.282661</td>\n",
       "    </tr>\n",
       "  </tbody>\n",
       "</table>\n",
       "<p>150 rows × 2 columns</p>\n",
       "</div>"
      ],
      "text/plain": [
       "            0         1\n",
       "0   -2.684126  0.319397\n",
       "1   -2.714142 -0.177001\n",
       "2   -2.888991 -0.144949\n",
       "3   -2.745343 -0.318299\n",
       "4   -2.728717  0.326755\n",
       "..        ...       ...\n",
       "145  1.944110  0.187532\n",
       "146  1.527167 -0.375317\n",
       "147  1.764346  0.078859\n",
       "148  1.900942  0.116628\n",
       "149  1.390189 -0.282661\n",
       "\n",
       "[150 rows x 2 columns]"
      ]
     },
     "execution_count": 18,
     "metadata": {},
     "output_type": "execute_result"
    }
   ],
   "source": [
    "pd.DataFrame(iris_transformed)"
   ]
  },
  {
   "cell_type": "markdown",
   "id": "a7c556c1-ce8f-4c2b-b0a6-7c57d9789bea",
   "metadata": {},
   "source": [
    "Podemos ver que sólo nos quedan dos columnas. Estas columnas/variables son una combinación lineal de nuestros datos originales y no corresponden a una característica del conjunto de datos original (como la anchura del sépalo, la longitud del sépalo, etc.).\n",
    "\n",
    "Visualicemos nuestros datos."
   ]
  },
  {
   "cell_type": "code",
   "execution_count": 19,
   "id": "6d0c18c8-f167-4688-9bed-881db1b1a50c",
   "metadata": {},
   "outputs": [
    {
     "data": {
      "image/png": "[encoded data removed]",
      "text/plain": [
       "<Figure size 640x480 with 1 Axes>"
      ]
     },
     "metadata": {},
     "output_type": "display_data"
    }
   ],
   "source": [
    "for i, species in enumerate(iris['target_names']):\n",
    "    plt.scatter(iris_transformed[:,0][iris['target'] == i], iris_transformed[:,1][iris['target'] == i])\n",
    "plt.legend(iris['target_names']); plt.grid(alpha=0.3)\n",
    "plt.show()"
   ]
  },
  {
   "cell_type": "markdown",
   "id": "27184943-9ec0-461a-beee-4145ee97e075",
   "metadata": {},
   "source": [
    "Podemos ver que se ha conservado gran parte de la información de los datos y ahora podemos entrenar un modelo ML que clasifique los puntos de datos según las tres especies."
   ]
  },
  {
   "cell_type": "markdown",
   "id": "b1d39c80-852b-40ab-a9f6-b1f4481fcb3c",
   "metadata": {},
   "source": [
    "## Algunas fuentes adicionales:\n",
    "\n",
    "- https://datascienceplus.com/understanding-the-covariance-matrix/\n",
    "- https://en.wikipedia.org/wiki/Iris_flower_data_set\n",
    "- https://scikit-learn.org/stable/auto_examples/decomposition/plot_pca_iris.html"
   ]
  },
  {
   "cell_type": "code",
   "execution_count": null,
   "id": "68521e54-794e-40bd-a638-2857f1d4c569",
   "metadata": {},
   "outputs": [],
   "source": []
  }
 ],
 "metadata": {
  "kernelspec": {
   "display_name": "Python 3 (ipykernel)",
   "language": "python",
   "name": "python3"
  },
  "language_info": {
   "codemirror_mode": {
    "name": "ipython",
    "version": 3
   },
   "file_extension": ".py",
   "mimetype": "text/x-python",
   "name": "python",
   "nbconvert_exporter": "python",
   "pygments_lexer": "ipython3",
   "version": "3.13.2"
  }
 },
 "nbformat": 4,
 "nbformat_minor": 5
}
